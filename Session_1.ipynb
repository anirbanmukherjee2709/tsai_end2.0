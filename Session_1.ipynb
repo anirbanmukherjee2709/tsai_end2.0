{
  "nbformat": 4,
  "nbformat_minor": 0,
  "metadata": {
    "colab": {
      "name": "Session_1.ipynb",
      "provenance": [],
      "collapsed_sections": [],
      "include_colab_link": true
    },
    "kernelspec": {
      "name": "python3",
      "display_name": "Python 3"
    },
    "language_info": {
      "name": "python"
    }
  },
  "cells": [
    {
      "cell_type": "markdown",
      "metadata": {
        "id": "view-in-github",
        "colab_type": "text"
      },
      "source": [
        "<a href=\"https://colab.research.google.com/github/anirbanmukherjee2709/tsai_end2.0_Session_1/blob/main/Session_1.ipynb\" target=\"_parent\"><img src=\"https://colab.research.google.com/assets/colab-badge.svg\" alt=\"Open In Colab\"/></a>"
      ]
    },
    {
      "cell_type": "markdown",
      "metadata": {
        "id": "-G6j5BAh3gpC"
      },
      "source": [
        "There are no possible combinations to have 44 parameters with 2 input neurons and 1 output neuron and only 1 single hidden layer"
      ]
    },
    {
      "cell_type": "code",
      "metadata": {
        "colab": {
          "base_uri": "https://localhost:8080/",
          "height": 52
        },
        "id": "rz6aoftC3MjX",
        "outputId": "ca0f45f0-2328-49f7-c16c-6ca1793cf75c"
      },
      "source": [
        "display(' 1 hidden layer')\n",
        "display([f'in: {i}, hidden1: {j}, out: {k}' for i in range(1, 10) for j in range(1, 10) for k in range(1, 10) if j*(1+i) + k*(1+j) == 44 and k < i and k < j])"
      ],
      "execution_count": 1,
      "outputs": [
        {
          "output_type": "display_data",
          "data": {
            "application/vnd.google.colaboratory.intrinsic+json": {
              "type": "string"
            },
            "text/plain": [
              "' 1 hidden layer'"
            ]
          },
          "metadata": {
            "tags": []
          }
        },
        {
          "output_type": "display_data",
          "data": {
            "text/plain": [
              "['in: 3, hidden1: 7, out: 2', 'in: 4, hidden1: 6, out: 2']"
            ]
          },
          "metadata": {
            "tags": []
          }
        }
      ]
    },
    {
      "cell_type": "markdown",
      "metadata": {
        "id": "rilc-tJs4hFR"
      },
      "source": [
        "Trying with 2 hidden layers"
      ]
    },
    {
      "cell_type": "code",
      "metadata": {
        "colab": {
          "base_uri": "https://localhost:8080/",
          "height": 52
        },
        "id": "XN4jS72N4lIt",
        "outputId": "0a5bbce3-75f0-465c-f7c5-50983f53be29"
      },
      "source": [
        "display(' 2 hidden layer')\n",
        "display([f'in: {2}, hidden_1: {j}, hidden_2: {k}, Out: {1}' for j in range(1, 10) for k in range(1, 10) if j*(1+2) + k*(1+j) + 1*(1+k) == 44])\n"
      ],
      "execution_count": 2,
      "outputs": [
        {
          "output_type": "display_data",
          "data": {
            "application/vnd.google.colaboratory.intrinsic+json": {
              "type": "string"
            },
            "text/plain": [
              "' 2 hidden layer'"
            ]
          },
          "metadata": {
            "tags": []
          }
        },
        {
          "output_type": "display_data",
          "data": {
            "text/plain": [
              "['in: 2, hidden_1: 5, hidden_2: 4, Out: 1']"
            ]
          },
          "metadata": {
            "tags": []
          }
        }
      ]
    },
    {
      "cell_type": "markdown",
      "metadata": {
        "id": "6RG4tXLp5DQb"
      },
      "source": [
        "There is only one possible combinations to have 44 parameters with 2 input neurons and 1 output neuron and only 2 hidden layers. Hence, we implement the same"
      ]
    },
    {
      "cell_type": "code",
      "metadata": {
        "id": "mdrkytAl3M-N",
        "colab": {
          "base_uri": "https://localhost:8080/"
        },
        "outputId": "7679b7b7-1b87-4c42-9e7c-3d4f51f7561f"
      },
      "source": [
        "import torch\n",
        "from torch.autograd import Variable\n",
        "import torch.nn as nn\n",
        "import torch.nn.functional as F\n",
        "import torch.optim as optim\n",
        "import numpy as np\n",
        "import matplotlib.pyplot as plt\n",
        "%matplotlib inline\n",
        "torch.manual_seed(2)"
      ],
      "execution_count": 3,
      "outputs": [
        {
          "output_type": "execute_result",
          "data": {
            "text/plain": [
              "<torch._C.Generator at 0x7efc6c39fbf0>"
            ]
          },
          "metadata": {
            "tags": []
          },
          "execution_count": 3
        }
      ]
    },
    {
      "cell_type": "code",
      "metadata": {
        "id": "lJYWyJis214R"
      },
      "source": [
        "X = torch.Tensor([[0,0], [0,1], [1,0], [1,1]])\n",
        "Y = torch.Tensor([0, 1, 1, 0]).view(-1,1)"
      ],
      "execution_count": 4,
      "outputs": []
    },
    {
      "cell_type": "code",
      "metadata": {
        "id": "mK5nMrLN23lc"
      },
      "source": [
        "class XOR(nn.Module):\n",
        "    def __init__(self, input_dim = 2, output_dim=1):\n",
        "        super(XOR, self).__init__()\n",
        "        self.lin1 = nn.Linear(input_dim,5)\n",
        "        self.lin2 = nn.Linear(5, 4)\n",
        "        self.lin3 = nn.Linear(4, output_dim)\n",
        "    \n",
        "    def forward(self, x):\n",
        "        x = self.lin1(x)\n",
        "        x = F.tanh(x)\n",
        "        x = self.lin2(x)\n",
        "        x = F.tanh(x)\n",
        "        x = self.lin3(x)\n",
        "        # x = F.tanh(x) # removing the last activation\n",
        "        return x"
      ],
      "execution_count": 5,
      "outputs": []
    },
    {
      "cell_type": "code",
      "metadata": {
        "id": "2gYJF-5G24V8",
        "colab": {
          "base_uri": "https://localhost:8080/"
        },
        "outputId": "876222f0-7a8e-4e15-d9fd-d92fcec730e0"
      },
      "source": [
        "model = XOR()\n",
        "print(model)\n",
        "from torchsummary import summary\n",
        "summary(model, (2, 2))"
      ],
      "execution_count": 6,
      "outputs": [
        {
          "output_type": "stream",
          "text": [
            "XOR(\n",
            "  (lin1): Linear(in_features=2, out_features=5, bias=True)\n",
            "  (lin2): Linear(in_features=5, out_features=4, bias=True)\n",
            "  (lin3): Linear(in_features=4, out_features=1, bias=True)\n",
            ")\n",
            "----------------------------------------------------------------\n",
            "        Layer (type)               Output Shape         Param #\n",
            "================================================================\n",
            "            Linear-1                 [-1, 2, 5]              15\n",
            "            Linear-2                 [-1, 2, 4]              24\n",
            "            Linear-3                 [-1, 2, 1]               5\n",
            "================================================================\n",
            "Total params: 44\n",
            "Trainable params: 44\n",
            "Non-trainable params: 0\n",
            "----------------------------------------------------------------\n",
            "Input size (MB): 0.00\n",
            "Forward/backward pass size (MB): 0.00\n",
            "Params size (MB): 0.00\n",
            "Estimated Total Size (MB): 0.00\n",
            "----------------------------------------------------------------\n"
          ],
          "name": "stdout"
        },
        {
          "output_type": "stream",
          "text": [
            "/usr/local/lib/python3.7/dist-packages/torch/nn/functional.py:1698: UserWarning: nn.functional.tanh is deprecated. Use torch.tanh instead.\n",
            "  warnings.warn(\"nn.functional.tanh is deprecated. Use torch.tanh instead.\")\n"
          ],
          "name": "stderr"
        }
      ]
    },
    {
      "cell_type": "code",
      "metadata": {
        "id": "Kajov4uI25_-"
      },
      "source": [
        "def weights_init(model):\n",
        "    for m in model.modules():\n",
        "        if isinstance(m, nn.Linear):\n",
        "            # initialize the weight tensor, here we use a normal distribution\n",
        "            m.weight.data.normal_(0, 1)\n",
        "\n",
        "weights_init(model)"
      ],
      "execution_count": 7,
      "outputs": []
    },
    {
      "cell_type": "code",
      "metadata": {
        "id": "g9dcVKJ17qHW"
      },
      "source": [
        "loss_func = nn.L1Loss()"
      ],
      "execution_count": 8,
      "outputs": []
    },
    {
      "cell_type": "code",
      "metadata": {
        "id": "0JW2-tKN7s7d"
      },
      "source": [
        "optimizer = optim.SGD(model.parameters(), lr=0.02, momentum=0.9)"
      ],
      "execution_count": 9,
      "outputs": []
    },
    {
      "cell_type": "code",
      "metadata": {
        "id": "uQ5srlbA7tSn",
        "colab": {
          "base_uri": "https://localhost:8080/"
        },
        "outputId": "accdfacc-46fb-4298-efd1-c8b4519c9fac"
      },
      "source": [
        "epochs = 2001\n",
        "steps = X.size(0)\n",
        "for i in range(epochs):\n",
        "    for j in range(steps):\n",
        "        data_point = np.random.randint(X.size(0))\n",
        "        x_var = Variable(X[data_point], requires_grad=False)\n",
        "        y_var = Variable(Y[data_point], requires_grad=False)\n",
        "        \n",
        "        optimizer.zero_grad()\n",
        "        y_hat = model(x_var)\n",
        "        loss = loss_func.forward(y_hat, y_var)\n",
        "        loss.backward()\n",
        "        optimizer.step()\n",
        "        \n",
        "    if i % 50 == 0:\n",
        "        print( \"Epoch: {0}, Loss: {1}, \".format(i + 1, loss.data.numpy()))"
      ],
      "execution_count": 10,
      "outputs": [
        {
          "output_type": "stream",
          "text": [
            "/usr/local/lib/python3.7/dist-packages/torch/nn/functional.py:1698: UserWarning: nn.functional.tanh is deprecated. Use torch.tanh instead.\n",
            "  warnings.warn(\"nn.functional.tanh is deprecated. Use torch.tanh instead.\")\n"
          ],
          "name": "stderr"
        },
        {
          "output_type": "stream",
          "text": [
            "Epoch: 1, Loss: 0.7385454177856445, \n",
            "Epoch: 51, Loss: 0.10831928253173828, \n",
            "Epoch: 101, Loss: 0.15435200929641724, \n",
            "Epoch: 151, Loss: 0.2787586450576782, \n",
            "Epoch: 201, Loss: 0.04608190059661865, \n",
            "Epoch: 251, Loss: 0.011268258094787598, \n",
            "Epoch: 301, Loss: 0.1749938726425171, \n",
            "Epoch: 351, Loss: 0.017241239547729492, \n",
            "Epoch: 401, Loss: 0.04738414287567139, \n",
            "Epoch: 451, Loss: 0.30900126695632935, \n",
            "Epoch: 501, Loss: 0.1121206283569336, \n",
            "Epoch: 551, Loss: 0.15961617231369019, \n",
            "Epoch: 601, Loss: 0.4184873700141907, \n",
            "Epoch: 651, Loss: 0.06799840927124023, \n",
            "Epoch: 701, Loss: 0.025753021240234375, \n",
            "Epoch: 751, Loss: 0.5310297012329102, \n",
            "Epoch: 801, Loss: 0.26080846786499023, \n",
            "Epoch: 851, Loss: 0.31592297554016113, \n",
            "Epoch: 901, Loss: 0.06564795970916748, \n",
            "Epoch: 951, Loss: 0.0823678970336914, \n",
            "Epoch: 1001, Loss: 0.4142874479293823, \n",
            "Epoch: 1051, Loss: 0.08794295787811279, \n",
            "Epoch: 1101, Loss: 0.037076354026794434, \n",
            "Epoch: 1151, Loss: 0.46728241443634033, \n",
            "Epoch: 1201, Loss: 0.056601524353027344, \n",
            "Epoch: 1251, Loss: 0.5794199705123901, \n",
            "Epoch: 1301, Loss: 0.1034233570098877, \n",
            "Epoch: 1351, Loss: 0.043077707290649414, \n",
            "Epoch: 1401, Loss: 0.07239294052124023, \n",
            "Epoch: 1451, Loss: 0.14052152633666992, \n",
            "Epoch: 1501, Loss: 0.2525734305381775, \n",
            "Epoch: 1551, Loss: 0.2756367325782776, \n",
            "Epoch: 1601, Loss: 0.2544245719909668, \n",
            "Epoch: 1651, Loss: 0.029134631156921387, \n",
            "Epoch: 1701, Loss: 0.24224483966827393, \n",
            "Epoch: 1751, Loss: 0.1108936071395874, \n",
            "Epoch: 1801, Loss: 0.18734097480773926, \n",
            "Epoch: 1851, Loss: 0.32278698682785034, \n",
            "Epoch: 1901, Loss: 0.15039706230163574, \n",
            "Epoch: 1951, Loss: 0.7450196743011475, \n",
            "Epoch: 2001, Loss: 0.14796996116638184, \n"
          ],
          "name": "stdout"
        }
      ]
    }
  ]
}