{
  "nbformat": 4,
  "nbformat_minor": 0,
  "metadata": {
    "colab": {
      "name": "Session_1.ipynb",
      "provenance": [],
      "collapsed_sections": [],
      "include_colab_link": true
    },
    "kernelspec": {
      "name": "python3",
      "display_name": "Python 3"
    },
    "language_info": {
      "name": "python"
    }
  },
  "cells": [
    {
      "cell_type": "markdown",
      "metadata": {
        "id": "view-in-github",
        "colab_type": "text"
      },
      "source": [
        "<a href=\"https://colab.research.google.com/github/anirbanmukherjee2709/tsai_end2.0_Session_1/blob/main/Session_1.ipynb\" target=\"_parent\"><img src=\"https://colab.research.google.com/assets/colab-badge.svg\" alt=\"Open In Colab\"/></a>"
      ]
    },
    {
      "cell_type": "code",
      "metadata": {
        "id": "mdrkytAl3M-N",
        "colab": {
          "base_uri": "https://localhost:8080/"
        },
        "outputId": "6a30dcd5-d638-4c65-8148-44685b6df34f"
      },
      "source": [
        "import torch\n",
        "from torch.autograd import Variable\n",
        "import torch.nn as nn\n",
        "import torch.nn.functional as F\n",
        "import torch.optim as optim\n",
        "import numpy as np\n",
        "import matplotlib.pyplot as plt\n",
        "%matplotlib inline\n",
        "torch.manual_seed(2)"
      ],
      "execution_count": 25,
      "outputs": [
        {
          "output_type": "execute_result",
          "data": {
            "text/plain": [
              "<torch._C.Generator at 0x7f8c177d7790>"
            ]
          },
          "metadata": {
            "tags": []
          },
          "execution_count": 25
        }
      ]
    },
    {
      "cell_type": "code",
      "metadata": {
        "id": "lJYWyJis214R"
      },
      "source": [
        "X = torch.Tensor([[0,0], [0,1], [1,0], [1,1]])\n",
        "Y = torch.Tensor([0, 1, 1, 0]).view(-1,1)"
      ],
      "execution_count": 26,
      "outputs": []
    },
    {
      "cell_type": "code",
      "metadata": {
        "id": "mK5nMrLN23lc"
      },
      "source": [
        "class XOR(nn.Module):\n",
        "    def __init__(self, input_dim= 2, output_dim= 1):\n",
        "        super(XOR, self).__init__()\n",
        "        self.lin1 = nn.Linear(input_dim, 5)\n",
        "        self.lin2 = nn.Linear(5, output_dim)\n",
        "    \n",
        "    def forward(self, x):\n",
        "        x = self.lin1(x)\n",
        "        x = F.tanh(x)\n",
        "        x = self.lin2(x)\n",
        "        # x = F.tanh(x) # removing the last activation\n",
        "        return x"
      ],
      "execution_count": 27,
      "outputs": []
    },
    {
      "cell_type": "code",
      "metadata": {
        "colab": {
          "base_uri": "https://localhost:8080/"
        },
        "id": "2tZFoDFAseOe",
        "outputId": "ebab5974-d9be-45a5-c9ff-fa3dde2adae1"
      },
      "source": [
        "model = XOR()\n",
        "print(model)\n",
        "from torchsummary import summary\n",
        "summary(model, (2, 2))"
      ],
      "execution_count": 28,
      "outputs": [
        {
          "output_type": "stream",
          "text": [
            "XOR(\n",
            "  (lin1): Linear(in_features=2, out_features=5, bias=True)\n",
            "  (lin2): Linear(in_features=5, out_features=1, bias=True)\n",
            ")\n",
            "----------------------------------------------------------------\n",
            "        Layer (type)               Output Shape         Param #\n",
            "================================================================\n",
            "            Linear-1                 [-1, 2, 5]              15\n",
            "            Linear-2                 [-1, 2, 1]               6\n",
            "================================================================\n",
            "Total params: 21\n",
            "Trainable params: 21\n",
            "Non-trainable params: 0\n",
            "----------------------------------------------------------------\n",
            "Input size (MB): 0.00\n",
            "Forward/backward pass size (MB): 0.00\n",
            "Params size (MB): 0.00\n",
            "Estimated Total Size (MB): 0.00\n",
            "----------------------------------------------------------------\n"
          ],
          "name": "stdout"
        },
        {
          "output_type": "stream",
          "text": [
            "/usr/local/lib/python3.7/dist-packages/torch/nn/functional.py:1698: UserWarning: nn.functional.tanh is deprecated. Use torch.tanh instead.\n",
            "  warnings.warn(\"nn.functional.tanh is deprecated. Use torch.tanh instead.\")\n"
          ],
          "name": "stderr"
        }
      ]
    },
    {
      "cell_type": "markdown",
      "metadata": {
        "id": "-G6j5BAh3gpC"
      },
      "source": [
        "There are no possible combinations to have 44 parameters with 2 input neurons and 1 output neuron and only 1 single hidden layer"
      ]
    },
    {
      "cell_type": "code",
      "metadata": {
        "colab": {
          "base_uri": "https://localhost:8080/",
          "height": 87
        },
        "id": "rz6aoftC3MjX",
        "outputId": "01495bd6-ce9b-42a1-f5bc-02a04ef6d543"
      },
      "source": [
        "display(' 1 hidden layer With Bias')\n",
        "display([f'in: {i}, hidden_1: {j}, out: {k}' for i in range(1, 10) for j in range(1, 10) for k in range(1, 10) if j*(1+i) + k*(1+j) == 44 and k < i and k < j])\n",
        "\n",
        "display(' 1 hidden layer Without Bias')\n",
        "display([f'in: {i}, hidden_1: {j}, out: {k}' for i in range(1, 10) for j in range(1, 10) for k in range(1, 10) if j*i + k*j == 44 and k < i and k < j])"
      ],
      "execution_count": 29,
      "outputs": [
        {
          "output_type": "display_data",
          "data": {
            "application/vnd.google.colaboratory.intrinsic+json": {
              "type": "string"
            },
            "text/plain": [
              "' 1 hidden layer With Bias'"
            ]
          },
          "metadata": {
            "tags": []
          }
        },
        {
          "output_type": "display_data",
          "data": {
            "text/plain": [
              "['in: 3, hidden_1: 7, out: 2', 'in: 4, hidden_1: 6, out: 2']"
            ]
          },
          "metadata": {
            "tags": []
          }
        },
        {
          "output_type": "display_data",
          "data": {
            "application/vnd.google.colaboratory.intrinsic+json": {
              "type": "string"
            },
            "text/plain": [
              "' 1 hidden layer Without Bias'"
            ]
          },
          "metadata": {
            "tags": []
          }
        },
        {
          "output_type": "display_data",
          "data": {
            "text/plain": [
              "['in: 8, hidden_1: 4, out: 3', 'in: 9, hidden_1: 4, out: 2']"
            ]
          },
          "metadata": {
            "tags": []
          }
        }
      ]
    },
    {
      "cell_type": "markdown",
      "metadata": {
        "id": "rilc-tJs4hFR"
      },
      "source": [
        "Trying with 2 hidden layers"
      ]
    },
    {
      "cell_type": "code",
      "metadata": {
        "colab": {
          "base_uri": "https://localhost:8080/",
          "height": 52
        },
        "id": "XN4jS72N4lIt",
        "outputId": "0052b892-2ab7-464d-bd6c-50fba5248665"
      },
      "source": [
        "display(' 2 hidden layer')\n",
        "display([f'in: {2}, hidden_1: {j}, hidden_2: {k}, Out: {1}' for j in range(1, 10) for k in range(1, 10) if j*(1+2) + k*(1+j) + 1*(1+k) == 44])"
      ],
      "execution_count": 30,
      "outputs": [
        {
          "output_type": "display_data",
          "data": {
            "application/vnd.google.colaboratory.intrinsic+json": {
              "type": "string"
            },
            "text/plain": [
              "' 2 hidden layer'"
            ]
          },
          "metadata": {
            "tags": []
          }
        },
        {
          "output_type": "display_data",
          "data": {
            "text/plain": [
              "['in: 2, hidden_1: 5, hidden_2: 4, Out: 1']"
            ]
          },
          "metadata": {
            "tags": []
          }
        }
      ]
    },
    {
      "cell_type": "markdown",
      "metadata": {
        "id": "6RG4tXLp5DQb"
      },
      "source": [
        "There is only one possible combinations to have 44 parameters with 2 input neurons and 1 output neuron and only 2 hidden layers. Hence, we implement the same"
      ]
    },
    {
      "cell_type": "code",
      "metadata": {
        "id": "rdHACuCUo-06"
      },
      "source": [
        "class XOR(nn.Module):\n",
        "    def __init__(self, input_dim= 2, output_dim= 1):\n",
        "        super(XOR, self).__init__()\n",
        "        self.lin1 = nn.Linear(input_dim, 5)\n",
        "        self.lin2 = nn.Linear(5, 4)\n",
        "        self.lin3 = nn.Linear(4, output_dim)\n",
        "    \n",
        "    def forward(self, x):\n",
        "        x = self.lin1(x)\n",
        "        x = torch.tanh(x)\n",
        "        x = self.lin2(x)\n",
        "        x = torch.tanh(x)\n",
        "        x = self.lin3(x)\n",
        "        # x = torch.tanh(x)  # removing the last activation\n",
        "        return x"
      ],
      "execution_count": 31,
      "outputs": []
    },
    {
      "cell_type": "code",
      "metadata": {
        "id": "2gYJF-5G24V8",
        "colab": {
          "base_uri": "https://localhost:8080/"
        },
        "outputId": "adc3dc05-ce93-4a85-ddb5-f18f9835481a"
      },
      "source": [
        "model = XOR()\n",
        "print(model)\n",
        "from torchsummary import summary\n",
        "summary(model, (2, 2))"
      ],
      "execution_count": 32,
      "outputs": [
        {
          "output_type": "stream",
          "text": [
            "XOR(\n",
            "  (lin1): Linear(in_features=2, out_features=5, bias=True)\n",
            "  (lin2): Linear(in_features=5, out_features=4, bias=True)\n",
            "  (lin3): Linear(in_features=4, out_features=1, bias=True)\n",
            ")\n",
            "----------------------------------------------------------------\n",
            "        Layer (type)               Output Shape         Param #\n",
            "================================================================\n",
            "            Linear-1                 [-1, 2, 5]              15\n",
            "            Linear-2                 [-1, 2, 4]              24\n",
            "            Linear-3                 [-1, 2, 1]               5\n",
            "================================================================\n",
            "Total params: 44\n",
            "Trainable params: 44\n",
            "Non-trainable params: 0\n",
            "----------------------------------------------------------------\n",
            "Input size (MB): 0.00\n",
            "Forward/backward pass size (MB): 0.00\n",
            "Params size (MB): 0.00\n",
            "Estimated Total Size (MB): 0.00\n",
            "----------------------------------------------------------------\n"
          ],
          "name": "stdout"
        }
      ]
    },
    {
      "cell_type": "code",
      "metadata": {
        "id": "Kajov4uI25_-"
      },
      "source": [
        "def weights_init(model):\n",
        "    for m in model.modules():\n",
        "        if isinstance(m, nn.Linear):\n",
        "            # initialize the weight tensor, here we use a normal distribution\n",
        "            m.weight.data.normal_(0, 1)\n",
        "\n",
        "weights_init(model)"
      ],
      "execution_count": 33,
      "outputs": []
    },
    {
      "cell_type": "code",
      "metadata": {
        "id": "g9dcVKJ17qHW"
      },
      "source": [
        "loss_func = nn.L1Loss()"
      ],
      "execution_count": 34,
      "outputs": []
    },
    {
      "cell_type": "code",
      "metadata": {
        "id": "0JW2-tKN7s7d"
      },
      "source": [
        "optimizer = optim.SGD(model.parameters(), lr=0.02, momentum=0.9)"
      ],
      "execution_count": 35,
      "outputs": []
    },
    {
      "cell_type": "code",
      "metadata": {
        "id": "uQ5srlbA7tSn",
        "colab": {
          "base_uri": "https://localhost:8080/"
        },
        "outputId": "1c0ddd79-5609-4717-c7cb-8f53fc58f3aa"
      },
      "source": [
        "epochs = 2001\n",
        "steps = X.size(0)\n",
        "for i in range(epochs):\n",
        "    for j in range(steps):\n",
        "        data_point = np.random.randint(X.size(0))\n",
        "        x_var = Variable(X[data_point], requires_grad=False)\n",
        "        y_var = Variable(Y[data_point], requires_grad=False)\n",
        "        \n",
        "        optimizer.zero_grad()\n",
        "        y_hat = model(x_var)\n",
        "        loss = loss_func.forward(y_hat, y_var)\n",
        "        loss.backward()\n",
        "        optimizer.step()\n",
        "        \n",
        "    if i % 50 == 0:\n",
        "        print( \"Epoch: {0}, Loss: {1}, \".format(i + 1, loss.data.numpy()))"
      ],
      "execution_count": 36,
      "outputs": [
        {
          "output_type": "stream",
          "text": [
            "Epoch: 1, Loss: 0.9588370323181152, \n",
            "Epoch: 51, Loss: 0.4088174104690552, \n",
            "Epoch: 101, Loss: 0.26079848408699036, \n",
            "Epoch: 151, Loss: 0.3263862729072571, \n",
            "Epoch: 201, Loss: 0.30159205198287964, \n",
            "Epoch: 251, Loss: 0.0929391160607338, \n",
            "Epoch: 301, Loss: 0.04909718036651611, \n",
            "Epoch: 351, Loss: 0.031532950699329376, \n",
            "Epoch: 401, Loss: 0.16163796186447144, \n",
            "Epoch: 451, Loss: 0.09495487809181213, \n",
            "Epoch: 501, Loss: 0.09569177031517029, \n",
            "Epoch: 551, Loss: 0.10192054510116577, \n",
            "Epoch: 601, Loss: 0.07920622825622559, \n",
            "Epoch: 651, Loss: 0.07755517959594727, \n",
            "Epoch: 701, Loss: 0.6060636043548584, \n",
            "Epoch: 751, Loss: 0.16103234887123108, \n",
            "Epoch: 801, Loss: 0.2599697411060333, \n",
            "Epoch: 851, Loss: 0.013877272605895996, \n",
            "Epoch: 901, Loss: 0.0621873140335083, \n",
            "Epoch: 951, Loss: 0.01844310760498047, \n",
            "Epoch: 1001, Loss: 0.034955769777297974, \n",
            "Epoch: 1051, Loss: 0.08636188507080078, \n",
            "Epoch: 1101, Loss: 0.0022170543670654297, \n",
            "Epoch: 1151, Loss: 0.12186622619628906, \n",
            "Epoch: 1201, Loss: 0.30723121762275696, \n",
            "Epoch: 1251, Loss: 0.11131691932678223, \n",
            "Epoch: 1301, Loss: 0.039426594972610474, \n",
            "Epoch: 1351, Loss: 0.0676264762878418, \n",
            "Epoch: 1401, Loss: 0.14147445559501648, \n",
            "Epoch: 1451, Loss: 0.03897261619567871, \n",
            "Epoch: 1501, Loss: 0.2643144130706787, \n",
            "Epoch: 1551, Loss: 0.0888582170009613, \n",
            "Epoch: 1601, Loss: 0.13643941283226013, \n",
            "Epoch: 1651, Loss: 0.31079018115997314, \n",
            "Epoch: 1701, Loss: 0.2986627221107483, \n",
            "Epoch: 1751, Loss: 0.12319132685661316, \n",
            "Epoch: 1801, Loss: 0.020294785499572754, \n",
            "Epoch: 1851, Loss: 0.015530884265899658, \n",
            "Epoch: 1901, Loss: 0.12513399124145508, \n",
            "Epoch: 1951, Loss: 0.029375076293945312, \n",
            "Epoch: 2001, Loss: 0.028309226036071777, \n"
          ],
          "name": "stdout"
        }
      ]
    }
  ]
}