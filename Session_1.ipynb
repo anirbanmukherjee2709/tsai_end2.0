{
  "nbformat": 4,
  "nbformat_minor": 0,
  "metadata": {
    "colab": {
      "name": "Session_1.ipynb",
      "provenance": [],
      "collapsed_sections": [],
      "include_colab_link": true
    },
    "kernelspec": {
      "name": "python3",
      "display_name": "Python 3"
    },
    "language_info": {
      "name": "python"
    }
  },
  "cells": [
    {
      "cell_type": "markdown",
      "metadata": {
        "id": "view-in-github",
        "colab_type": "text"
      },
      "source": [
        "<a href=\"https://colab.research.google.com/github/anirbanmukherjee2709/tsai_end2.0_Session_1/blob/main/Session_1.ipynb\" target=\"_parent\"><img src=\"https://colab.research.google.com/assets/colab-badge.svg\" alt=\"Open In Colab\"/></a>"
      ]
    },
    {
      "cell_type": "code",
      "metadata": {
        "id": "mdrkytAl3M-N",
        "colab": {
          "base_uri": "https://localhost:8080/"
        },
        "outputId": "875e86fe-d6d6-4e49-d6c4-8616d47703cb"
      },
      "source": [
        "import torch\n",
        "from torch.autograd import Variable\n",
        "import torch.nn as nn\n",
        "import torch.nn.functional as F\n",
        "import torch.optim as optim\n",
        "import numpy as np\n",
        "import matplotlib.pyplot as plt\n",
        "%matplotlib inline\n",
        "torch.manual_seed(2)"
      ],
      "execution_count": 1,
      "outputs": [
        {
          "output_type": "execute_result",
          "data": {
            "text/plain": [
              "<torch._C.Generator at 0x7f8c177d7790>"
            ]
          },
          "metadata": {
            "tags": []
          },
          "execution_count": 1
        }
      ]
    },
    {
      "cell_type": "code",
      "metadata": {
        "id": "lJYWyJis214R"
      },
      "source": [
        "X = torch.Tensor([[0,0], [0,1], [1,0], [1,1]])\n",
        "Y = torch.Tensor([0, 1, 1, 0]).view(-1,1)"
      ],
      "execution_count": 2,
      "outputs": []
    },
    {
      "cell_type": "code",
      "metadata": {
        "id": "mK5nMrLN23lc"
      },
      "source": [
        "class XOR(nn.Module):\n",
        "    def __init__(self, input_dim= 2, output_dim= 1):\n",
        "        super(XOR, self).__init__()\n",
        "        self.lin1 = nn.Linear(input_dim, 5)\n",
        "        self.lin2 = nn.Linear(5, output_dim)\n",
        "    \n",
        "    def forward(self, x):\n",
        "        x = self.lin1(x)\n",
        "        x = F.tanh(x)\n",
        "        x = self.lin2(x)\n",
        "        # x = F.tanh(x) # removing the last activation\n",
        "        return x"
      ],
      "execution_count": 3,
      "outputs": []
    },
    {
      "cell_type": "code",
      "metadata": {
        "colab": {
          "base_uri": "https://localhost:8080/"
        },
        "id": "2tZFoDFAseOe",
        "outputId": "d9d05820-e7b1-4831-a980-3857c1b3d4d0"
      },
      "source": [
        "model = XOR()\n",
        "print(model)\n",
        "from torchsummary import summary\n",
        "summary(model, (2, 2))"
      ],
      "execution_count": 4,
      "outputs": [
        {
          "output_type": "stream",
          "text": [
            "XOR(\n",
            "  (lin1): Linear(in_features=2, out_features=5, bias=True)\n",
            "  (lin2): Linear(in_features=5, out_features=1, bias=True)\n",
            ")\n",
            "----------------------------------------------------------------\n",
            "        Layer (type)               Output Shape         Param #\n",
            "================================================================\n",
            "            Linear-1                 [-1, 2, 5]              15\n",
            "            Linear-2                 [-1, 2, 1]               6\n",
            "================================================================\n",
            "Total params: 21\n",
            "Trainable params: 21\n",
            "Non-trainable params: 0\n",
            "----------------------------------------------------------------\n",
            "Input size (MB): 0.00\n",
            "Forward/backward pass size (MB): 0.00\n",
            "Params size (MB): 0.00\n",
            "Estimated Total Size (MB): 0.00\n",
            "----------------------------------------------------------------\n"
          ],
          "name": "stdout"
        },
        {
          "output_type": "stream",
          "text": [
            "/usr/local/lib/python3.7/dist-packages/torch/nn/functional.py:1698: UserWarning: nn.functional.tanh is deprecated. Use torch.tanh instead.\n",
            "  warnings.warn(\"nn.functional.tanh is deprecated. Use torch.tanh instead.\")\n"
          ],
          "name": "stderr"
        }
      ]
    },
    {
      "cell_type": "markdown",
      "metadata": {
        "id": "-G6j5BAh3gpC"
      },
      "source": [
        "There are no possible combinations to have 44 parameters with 2 input neurons and 1 output neuron and only 1 single hidden layer"
      ]
    },
    {
      "cell_type": "code",
      "metadata": {
        "colab": {
          "base_uri": "https://localhost:8080/",
          "height": 87
        },
        "id": "rz6aoftC3MjX",
        "outputId": "3c3ec690-6220-44a4-9912-00c790dcd542"
      },
      "source": [
        "display(' 1 hidden layer With Bias')\n",
        "display([f'in: {i}, hidden_1: {j}, out: {k}' for i in range(1, 10) for j in range(1, 10) for k in range(1, 10) if j*(1+i) + k*(1+j) == 44 and k < i and k < j])\n",
        "\n",
        "display(' 1 hidden layer Without Bias')\n",
        "display([f'in: {i}, hidden_1: {j}, out: {k}' for i in range(1, 10) for j in range(1, 10) for k in range(1, 10) if j*i + k*j == 44 and k < i and k < j])"
      ],
      "execution_count": 5,
      "outputs": [
        {
          "output_type": "display_data",
          "data": {
            "application/vnd.google.colaboratory.intrinsic+json": {
              "type": "string"
            },
            "text/plain": [
              "' 1 hidden layer With Bias'"
            ]
          },
          "metadata": {
            "tags": []
          }
        },
        {
          "output_type": "display_data",
          "data": {
            "text/plain": [
              "['in: 3, hidden_1: 7, out: 2', 'in: 4, hidden_1: 6, out: 2']"
            ]
          },
          "metadata": {
            "tags": []
          }
        },
        {
          "output_type": "display_data",
          "data": {
            "application/vnd.google.colaboratory.intrinsic+json": {
              "type": "string"
            },
            "text/plain": [
              "' 1 hidden layer Without Bias'"
            ]
          },
          "metadata": {
            "tags": []
          }
        },
        {
          "output_type": "display_data",
          "data": {
            "text/plain": [
              "['in: 8, hidden_1: 4, out: 3', 'in: 9, hidden_1: 4, out: 2']"
            ]
          },
          "metadata": {
            "tags": []
          }
        }
      ]
    },
    {
      "cell_type": "markdown",
      "metadata": {
        "id": "rilc-tJs4hFR"
      },
      "source": [
        "Trying with 2 hidden layers"
      ]
    },
    {
      "cell_type": "code",
      "metadata": {
        "colab": {
          "base_uri": "https://localhost:8080/",
          "height": 52
        },
        "id": "XN4jS72N4lIt",
        "outputId": "f2366c8f-5cae-45ac-a5dc-eff8dacec20f"
      },
      "source": [
        "display(' 2 hidden layer')\n",
        "display([f'in: {2}, hidden_1: {j}, hidden_2: {k}, Out: {1}' for j in range(1, 10) for k in range(1, 10) if j*(1+2) + k*(1+j) + 1*(1+k) == 44])"
      ],
      "execution_count": 6,
      "outputs": [
        {
          "output_type": "display_data",
          "data": {
            "application/vnd.google.colaboratory.intrinsic+json": {
              "type": "string"
            },
            "text/plain": [
              "' 2 hidden layer'"
            ]
          },
          "metadata": {
            "tags": []
          }
        },
        {
          "output_type": "display_data",
          "data": {
            "text/plain": [
              "['in: 2, hidden_1: 5, hidden_2: 4, Out: 1']"
            ]
          },
          "metadata": {
            "tags": []
          }
        }
      ]
    },
    {
      "cell_type": "markdown",
      "metadata": {
        "id": "6RG4tXLp5DQb"
      },
      "source": [
        "There is only one possible combinations to have 44 parameters with 2 input neurons and 1 output neuron and only 2 hidden layers. Hence, we implement the same"
      ]
    },
    {
      "cell_type": "code",
      "metadata": {
        "id": "rdHACuCUo-06"
      },
      "source": [
        "class XOR(nn.Module):\n",
        "    def __init__(self, input_dim= 2, output_dim= 1):\n",
        "        super(XOR, self).__init__()\n",
        "        self.lin1 = nn.Linear(input_dim, 5)\n",
        "        self.lin2 = nn.Linear(5, 4)\n",
        "        self.lin3 = nn.Linear(4, output_dim)\n",
        "    \n",
        "    def forward(self, x):\n",
        "        x = self.lin1(x)\n",
        "        x = torch.tanh(x)\n",
        "        x = self.lin2(x)\n",
        "        x = torch.tanh(x)\n",
        "        x = self.lin3(x)\n",
        "        x = torch.tanh(x)\n",
        "        return x"
      ],
      "execution_count": 7,
      "outputs": []
    },
    {
      "cell_type": "code",
      "metadata": {
        "id": "2gYJF-5G24V8",
        "colab": {
          "base_uri": "https://localhost:8080/"
        },
        "outputId": "7f2e4dd0-e87c-4b34-c0d5-1ce3a9d71a55"
      },
      "source": [
        "model = XOR()\n",
        "print(model)\n",
        "from torchsummary import summary\n",
        "summary(model, (2, 2))"
      ],
      "execution_count": 8,
      "outputs": [
        {
          "output_type": "stream",
          "text": [
            "XOR(\n",
            "  (lin1): Linear(in_features=2, out_features=5, bias=True)\n",
            "  (lin2): Linear(in_features=5, out_features=4, bias=True)\n",
            "  (lin3): Linear(in_features=4, out_features=1, bias=True)\n",
            ")\n",
            "----------------------------------------------------------------\n",
            "        Layer (type)               Output Shape         Param #\n",
            "================================================================\n",
            "            Linear-1                 [-1, 2, 5]              15\n",
            "            Linear-2                 [-1, 2, 4]              24\n",
            "            Linear-3                 [-1, 2, 1]               5\n",
            "================================================================\n",
            "Total params: 44\n",
            "Trainable params: 44\n",
            "Non-trainable params: 0\n",
            "----------------------------------------------------------------\n",
            "Input size (MB): 0.00\n",
            "Forward/backward pass size (MB): 0.00\n",
            "Params size (MB): 0.00\n",
            "Estimated Total Size (MB): 0.00\n",
            "----------------------------------------------------------------\n"
          ],
          "name": "stdout"
        }
      ]
    },
    {
      "cell_type": "code",
      "metadata": {
        "id": "Kajov4uI25_-"
      },
      "source": [
        "def weights_init(model):\n",
        "    for m in model.modules():\n",
        "        if isinstance(m, nn.Linear):\n",
        "            # initialize the weight tensor, here we use a normal distribution\n",
        "            m.weight.data.normal_(0, 1)\n",
        "\n",
        "weights_init(model)"
      ],
      "execution_count": 9,
      "outputs": []
    },
    {
      "cell_type": "code",
      "metadata": {
        "id": "g9dcVKJ17qHW"
      },
      "source": [
        "loss_func = nn.L1Loss()"
      ],
      "execution_count": 10,
      "outputs": []
    },
    {
      "cell_type": "code",
      "metadata": {
        "id": "0JW2-tKN7s7d"
      },
      "source": [
        "optimizer = optim.SGD(model.parameters(), lr=0.02, momentum=0.9)"
      ],
      "execution_count": 11,
      "outputs": []
    },
    {
      "cell_type": "code",
      "metadata": {
        "id": "uQ5srlbA7tSn",
        "colab": {
          "base_uri": "https://localhost:8080/"
        },
        "outputId": "8f941a97-f1a3-478e-c2b1-78216fab1724"
      },
      "source": [
        "epochs = 2001\n",
        "steps = X.size(0)\n",
        "for i in range(epochs):\n",
        "    for j in range(steps):\n",
        "        data_point = np.random.randint(X.size(0))\n",
        "        x_var = Variable(X[data_point], requires_grad=False)\n",
        "        y_var = Variable(Y[data_point], requires_grad=False)\n",
        "        \n",
        "        optimizer.zero_grad()\n",
        "        y_hat = model(x_var)\n",
        "        loss = loss_func.forward(y_hat, y_var)\n",
        "        loss.backward()\n",
        "        optimizer.step()\n",
        "        \n",
        "    if i % 50 == 0:\n",
        "        print( \"Epoch: {0}, Loss: {1}, \".format(i + 1, loss.data.numpy()))"
      ],
      "execution_count": 12,
      "outputs": [
        {
          "output_type": "stream",
          "text": [
            "Epoch: 1, Loss: 0.9286401271820068, \n",
            "Epoch: 51, Loss: 0.2629197835922241, \n",
            "Epoch: 101, Loss: 0.00139617919921875, \n",
            "Epoch: 151, Loss: 0.0008918642997741699, \n",
            "Epoch: 201, Loss: 0.0014001727104187012, \n",
            "Epoch: 251, Loss: 0.999971330165863, \n",
            "Epoch: 301, Loss: 0.9999569654464722, \n",
            "Epoch: 351, Loss: 0.0008957982063293457, \n",
            "Epoch: 401, Loss: 0.3382705748081207, \n",
            "Epoch: 451, Loss: 0.00023996829986572266, \n",
            "Epoch: 501, Loss: 0.7652166485786438, \n",
            "Epoch: 551, Loss: 0.9999520182609558, \n",
            "Epoch: 601, Loss: 0.5060203671455383, \n",
            "Epoch: 651, Loss: 0.000652611255645752, \n",
            "Epoch: 701, Loss: 0.00019043684005737305, \n",
            "Epoch: 751, Loss: 0.9999356269836426, \n",
            "Epoch: 801, Loss: 0.00036025047302246094, \n",
            "Epoch: 851, Loss: 0.9999257922172546, \n",
            "Epoch: 901, Loss: 0.0002473592758178711, \n",
            "Epoch: 951, Loss: 0.18486538529396057, \n",
            "Epoch: 1001, Loss: 0.5732091665267944, \n",
            "Epoch: 1051, Loss: 0.5184032917022705, \n",
            "Epoch: 1101, Loss: 0.9999232292175293, \n",
            "Epoch: 1151, Loss: 0.0003019571304321289, \n",
            "Epoch: 1201, Loss: 0.00016742944717407227, \n",
            "Epoch: 1251, Loss: 0.9999252557754517, \n",
            "Epoch: 1301, Loss: 0.00020241737365722656, \n",
            "Epoch: 1351, Loss: 0.00022608041763305664, \n",
            "Epoch: 1401, Loss: 0.6801086068153381, \n",
            "Epoch: 1451, Loss: 0.00022977590560913086, \n",
            "Epoch: 1501, Loss: 0.00016254186630249023, \n",
            "Epoch: 1551, Loss: 0.00019496679306030273, \n",
            "Epoch: 1601, Loss: 0.9999197125434875, \n",
            "Epoch: 1651, Loss: 0.9999130368232727, \n",
            "Epoch: 1701, Loss: 0.8832891583442688, \n",
            "Epoch: 1751, Loss: 0.9999127984046936, \n",
            "Epoch: 1801, Loss: 0.00015360116958618164, \n",
            "Epoch: 1851, Loss: 0.11090478301048279, \n",
            "Epoch: 1901, Loss: 0.03804503381252289, \n",
            "Epoch: 1951, Loss: 0.00022989511489868164, \n",
            "Epoch: 2001, Loss: 0.0001932978630065918, \n"
          ],
          "name": "stdout"
        }
      ]
    }
  ]
}