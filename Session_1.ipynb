{
  "nbformat": 4,
  "nbformat_minor": 0,
  "metadata": {
    "colab": {
      "name": "Session_1.ipynb",
      "provenance": [],
      "collapsed_sections": [],
      "include_colab_link": true
    },
    "kernelspec": {
      "name": "python3",
      "display_name": "Python 3"
    },
    "language_info": {
      "name": "python"
    }
  },
  "cells": [
    {
      "cell_type": "markdown",
      "metadata": {
        "id": "view-in-github",
        "colab_type": "text"
      },
      "source": [
        "<a href=\"https://colab.research.google.com/github/anirbanmukherjee2709/tsai_end2.0_Session_1/blob/main/Session_1.ipynb\" target=\"_parent\"><img src=\"https://colab.research.google.com/assets/colab-badge.svg\" alt=\"Open In Colab\"/></a>"
      ]
    },
    {
      "cell_type": "code",
      "metadata": {
        "id": "mdrkytAl3M-N",
        "colab": {
          "base_uri": "https://localhost:8080/"
        },
        "outputId": "80c30830-1a45-4204-ef20-90ad0ce20ab8"
      },
      "source": [
        "import torch\n",
        "from torch.autograd import Variable\n",
        "import torch.nn as nn\n",
        "import torch.nn.functional as F\n",
        "import torch.optim as optim\n",
        "import numpy as np\n",
        "import matplotlib.pyplot as plt\n",
        "%matplotlib inline\n",
        "torch.manual_seed(2)"
      ],
      "execution_count": 1,
      "outputs": [
        {
          "output_type": "execute_result",
          "data": {
            "text/plain": [
              "<torch._C.Generator at 0x7f2687b818b0>"
            ]
          },
          "metadata": {
            "tags": []
          },
          "execution_count": 1
        }
      ]
    },
    {
      "cell_type": "code",
      "metadata": {
        "id": "lJYWyJis214R"
      },
      "source": [
        "X = torch.Tensor([[0,0], [0,1], [1,0], [1,1]])\n",
        "Y = torch.Tensor([0, 1, 1, 0]).view(-1,1)"
      ],
      "execution_count": 2,
      "outputs": []
    },
    {
      "cell_type": "markdown",
      "metadata": {
        "id": "dClgxpxtroVk"
      },
      "source": [
        "**Removing/commenting out the last activation function.**"
      ]
    },
    {
      "cell_type": "code",
      "metadata": {
        "id": "mK5nMrLN23lc"
      },
      "source": [
        "class XOR(nn.Module):\n",
        "    def __init__(self, input_dim= 2, output_dim= 1):\n",
        "        super(XOR, self).__init__()\n",
        "        self.lin1 = nn.Linear(input_dim, 5)\n",
        "        self.lin2 = nn.Linear(5, output_dim)\n",
        "    \n",
        "    def forward(self, x):\n",
        "        x = self.lin1(x)\n",
        "        x = F.tanh(x)\n",
        "        x = self.lin2(x)\n",
        "        # x = F.tanh(x) # removing the last activation\n",
        "        return x"
      ],
      "execution_count": 3,
      "outputs": []
    },
    {
      "cell_type": "code",
      "metadata": {
        "colab": {
          "base_uri": "https://localhost:8080/"
        },
        "id": "2tZFoDFAseOe",
        "outputId": "cb01b1fb-bb29-4688-c1ec-7f6efa93b67f"
      },
      "source": [
        "model = XOR()\n",
        "print(model)\n",
        "from torchsummary import summary\n",
        "summary(model, (2, 2))"
      ],
      "execution_count": 4,
      "outputs": [
        {
          "output_type": "stream",
          "text": [
            "XOR(\n",
            "  (lin1): Linear(in_features=2, out_features=5, bias=True)\n",
            "  (lin2): Linear(in_features=5, out_features=1, bias=True)\n",
            ")\n",
            "----------------------------------------------------------------\n",
            "        Layer (type)               Output Shape         Param #\n",
            "================================================================\n",
            "            Linear-1                 [-1, 2, 5]              15\n",
            "            Linear-2                 [-1, 2, 1]               6\n",
            "================================================================\n",
            "Total params: 21\n",
            "Trainable params: 21\n",
            "Non-trainable params: 0\n",
            "----------------------------------------------------------------\n",
            "Input size (MB): 0.00\n",
            "Forward/backward pass size (MB): 0.00\n",
            "Params size (MB): 0.00\n",
            "Estimated Total Size (MB): 0.00\n",
            "----------------------------------------------------------------\n"
          ],
          "name": "stdout"
        },
        {
          "output_type": "stream",
          "text": [
            "/usr/local/lib/python3.7/dist-packages/torch/nn/functional.py:1698: UserWarning: nn.functional.tanh is deprecated. Use torch.tanh instead.\n",
            "  warnings.warn(\"nn.functional.tanh is deprecated. Use torch.tanh instead.\")\n"
          ],
          "name": "stderr"
        }
      ]
    },
    {
      "cell_type": "markdown",
      "metadata": {
        "id": "AhbYAsh8r6Gs"
      },
      "source": [
        "**Calculating model with exactly 44 parameters, including weights and biases**"
      ]
    },
    {
      "cell_type": "code",
      "metadata": {
        "colab": {
          "base_uri": "https://localhost:8080/",
          "height": 88
        },
        "id": "rz6aoftC3MjX",
        "outputId": "5553836e-6473-4298-8146-76ef6371a69c"
      },
      "source": [
        "display(' 1 hidden layer With Bias')\n",
        "display([f'in: {i}, hidden_1: {j}, out: {k}' for i in range(1, 10) for j in range(1, 10) for k in range(1, 10) if j*(1+i) + k*(1+j) == 44 and k < i and k < j])\n",
        "\n",
        "display(' 1 hidden layer Without Bias')\n",
        "display([f'in: {i}, hidden_1: {j}, out: {k}' for i in range(1, 10) for j in range(1, 10) for k in range(1, 10) if j*i + k*j == 44 and k < i and k < j])"
      ],
      "execution_count": 5,
      "outputs": [
        {
          "output_type": "display_data",
          "data": {
            "application/vnd.google.colaboratory.intrinsic+json": {
              "type": "string"
            },
            "text/plain": [
              "' 1 hidden layer With Bias'"
            ]
          },
          "metadata": {
            "tags": []
          }
        },
        {
          "output_type": "display_data",
          "data": {
            "text/plain": [
              "['in: 3, hidden_1: 7, out: 2', 'in: 4, hidden_1: 6, out: 2']"
            ]
          },
          "metadata": {
            "tags": []
          }
        },
        {
          "output_type": "display_data",
          "data": {
            "application/vnd.google.colaboratory.intrinsic+json": {
              "type": "string"
            },
            "text/plain": [
              "' 1 hidden layer Without Bias'"
            ]
          },
          "metadata": {
            "tags": []
          }
        },
        {
          "output_type": "display_data",
          "data": {
            "text/plain": [
              "['in: 8, hidden_1: 4, out: 3', 'in: 9, hidden_1: 4, out: 2']"
            ]
          },
          "metadata": {
            "tags": []
          }
        }
      ]
    },
    {
      "cell_type": "markdown",
      "metadata": {
        "id": "-G6j5BAh3gpC"
      },
      "source": [
        "There are no possible combinations to have 44 parameters with 2 input neurons and 1 output neuron and only 1 single hidden layer"
      ]
    },
    {
      "cell_type": "markdown",
      "metadata": {
        "id": "rilc-tJs4hFR"
      },
      "source": [
        "Now trying with 2 hidden layers"
      ]
    },
    {
      "cell_type": "code",
      "metadata": {
        "colab": {
          "base_uri": "https://localhost:8080/",
          "height": 53
        },
        "id": "XN4jS72N4lIt",
        "outputId": "33523402-402b-4543-d9e2-f48a686e6e3f"
      },
      "source": [
        "display(' 2 hidden layer')\n",
        "display([f'in: {2}, hidden_1: {j}, hidden_2: {k}, Out: {1}' for j in range(1, 10) for k in range(1, 10) if j*(1+2) + k*(1+j) + 1*(1+k) == 44])"
      ],
      "execution_count": 6,
      "outputs": [
        {
          "output_type": "display_data",
          "data": {
            "application/vnd.google.colaboratory.intrinsic+json": {
              "type": "string"
            },
            "text/plain": [
              "' 2 hidden layer'"
            ]
          },
          "metadata": {
            "tags": []
          }
        },
        {
          "output_type": "display_data",
          "data": {
            "text/plain": [
              "['in: 2, hidden_1: 5, hidden_2: 4, Out: 1']"
            ]
          },
          "metadata": {
            "tags": []
          }
        }
      ]
    },
    {
      "cell_type": "markdown",
      "metadata": {
        "id": "6RG4tXLp5DQb"
      },
      "source": [
        "There is only one possible combinations to have 44 parameters with 2 input neurons and 1 output neuron and only 2 hidden layers. Hence, we implement the same"
      ]
    },
    {
      "cell_type": "code",
      "metadata": {
        "id": "rdHACuCUo-06"
      },
      "source": [
        "class XOR(nn.Module):\n",
        "    def __init__(self, input_dim= 2, output_dim= 1):\n",
        "        super(XOR, self).__init__()\n",
        "        self.lin1 = nn.Linear(input_dim, 5)\n",
        "        self.lin2 = nn.Linear(5, 4)\n",
        "        self.lin3 = nn.Linear(4, output_dim)\n",
        "    \n",
        "    def forward(self, x):\n",
        "        x = self.lin1(x)\n",
        "        x = torch.tanh(x)\n",
        "        x = self.lin2(x)\n",
        "        x = torch.tanh(x)\n",
        "        x = self.lin3(x)\n",
        "        # x = torch.tanh(x) # removing the last activation\n",
        "        return x"
      ],
      "execution_count": 7,
      "outputs": []
    },
    {
      "cell_type": "code",
      "metadata": {
        "id": "2gYJF-5G24V8",
        "colab": {
          "base_uri": "https://localhost:8080/"
        },
        "outputId": "846c1970-f77b-4ae2-f14d-55f551d2a214"
      },
      "source": [
        "model = XOR()\n",
        "print(model)\n",
        "from torchsummary import summary\n",
        "summary(model, (2, 2))"
      ],
      "execution_count": 8,
      "outputs": [
        {
          "output_type": "stream",
          "text": [
            "XOR(\n",
            "  (lin1): Linear(in_features=2, out_features=5, bias=True)\n",
            "  (lin2): Linear(in_features=5, out_features=4, bias=True)\n",
            "  (lin3): Linear(in_features=4, out_features=1, bias=True)\n",
            ")\n",
            "----------------------------------------------------------------\n",
            "        Layer (type)               Output Shape         Param #\n",
            "================================================================\n",
            "            Linear-1                 [-1, 2, 5]              15\n",
            "            Linear-2                 [-1, 2, 4]              24\n",
            "            Linear-3                 [-1, 2, 1]               5\n",
            "================================================================\n",
            "Total params: 44\n",
            "Trainable params: 44\n",
            "Non-trainable params: 0\n",
            "----------------------------------------------------------------\n",
            "Input size (MB): 0.00\n",
            "Forward/backward pass size (MB): 0.00\n",
            "Params size (MB): 0.00\n",
            "Estimated Total Size (MB): 0.00\n",
            "----------------------------------------------------------------\n"
          ],
          "name": "stdout"
        }
      ]
    },
    {
      "cell_type": "markdown",
      "metadata": {
        "id": "O8qkM7jHsxRn"
      },
      "source": [
        "We can see that the total number of parameters  (including weights and biases) is 44."
      ]
    },
    {
      "cell_type": "markdown",
      "metadata": {
        "id": "wJD5wOELxAAp"
      },
      "source": [
        "Another way to do this can be, if we we remove the bias of the output layer."
      ]
    },
    {
      "cell_type": "code",
      "metadata": {
        "id": "xmAQosIHw_kV"
      },
      "source": [
        "class XOR(nn.Module):\n",
        "    def __init__(self, input_dim= 2, output_dim= 1):\n",
        "        super(XOR, self).__init__()\n",
        "        self.lin1 = nn.Linear(input_dim, 11)\n",
        "        self.lin2 = nn.Linear(11, output_dim,bias = False)\n",
        "    \n",
        "    def forward(self, x):\n",
        "        x = self.lin1(x)\n",
        "        x = F.tanh(x)\n",
        "        x = self.lin2(x)\n",
        "        # x = F.tanh(x) # removing the last activation\n",
        "        return x"
      ],
      "execution_count": 9,
      "outputs": []
    },
    {
      "cell_type": "code",
      "metadata": {
        "colab": {
          "base_uri": "https://localhost:8080/"
        },
        "id": "ISWfWpvpxKZF",
        "outputId": "22aa29f1-0786-48c9-f53c-e412dc7c2b14"
      },
      "source": [
        "model = XOR()\n",
        "print(model)\n",
        "from torchsummary import summary\n",
        "summary(model, (2, 2))"
      ],
      "execution_count": 10,
      "outputs": [
        {
          "output_type": "stream",
          "text": [
            "XOR(\n",
            "  (lin1): Linear(in_features=2, out_features=11, bias=True)\n",
            "  (lin2): Linear(in_features=11, out_features=1, bias=False)\n",
            ")\n",
            "----------------------------------------------------------------\n",
            "        Layer (type)               Output Shape         Param #\n",
            "================================================================\n",
            "            Linear-1                [-1, 2, 11]              33\n",
            "            Linear-2                 [-1, 2, 1]              11\n",
            "================================================================\n",
            "Total params: 44\n",
            "Trainable params: 44\n",
            "Non-trainable params: 0\n",
            "----------------------------------------------------------------\n",
            "Input size (MB): 0.00\n",
            "Forward/backward pass size (MB): 0.00\n",
            "Params size (MB): 0.00\n",
            "Estimated Total Size (MB): 0.00\n",
            "----------------------------------------------------------------\n"
          ],
          "name": "stdout"
        },
        {
          "output_type": "stream",
          "text": [
            "/usr/local/lib/python3.7/dist-packages/torch/nn/functional.py:1698: UserWarning: nn.functional.tanh is deprecated. Use torch.tanh instead.\n",
            "  warnings.warn(\"nn.functional.tanh is deprecated. Use torch.tanh instead.\")\n"
          ],
          "name": "stderr"
        }
      ]
    },
    {
      "cell_type": "markdown",
      "metadata": {
        "id": "_ehCfhoUynDO"
      },
      "source": [
        "As we can see, there are 44 parameters."
      ]
    },
    {
      "cell_type": "code",
      "metadata": {
        "id": "Kajov4uI25_-"
      },
      "source": [
        "def weights_init(model):\n",
        "    for m in model.modules():\n",
        "        if isinstance(m, nn.Linear):\n",
        "            # initialize the weight tensor, here we use a normal distribution\n",
        "            m.weight.data.normal_(0, 1)\n",
        "\n",
        "weights_init(model)"
      ],
      "execution_count": 11,
      "outputs": []
    },
    {
      "cell_type": "code",
      "metadata": {
        "id": "g9dcVKJ17qHW"
      },
      "source": [
        "loss_func = nn.L1Loss()"
      ],
      "execution_count": 12,
      "outputs": []
    },
    {
      "cell_type": "code",
      "metadata": {
        "id": "0JW2-tKN7s7d"
      },
      "source": [
        "optimizer = optim.SGD(model.parameters(), lr=0.02, momentum=0.9)"
      ],
      "execution_count": 13,
      "outputs": []
    },
    {
      "cell_type": "code",
      "metadata": {
        "id": "uQ5srlbA7tSn",
        "colab": {
          "base_uri": "https://localhost:8080/"
        },
        "outputId": "5dd38851-e7ab-4e9f-bd85-4692bf02819b"
      },
      "source": [
        "epochs = 2001\n",
        "steps = X.size(0)\n",
        "for i in range(epochs):\n",
        "    for j in range(steps):\n",
        "        data_point = np.random.randint(X.size(0))\n",
        "        x_var = Variable(X[data_point], requires_grad=False)\n",
        "        y_var = Variable(Y[data_point], requires_grad=False)\n",
        "        \n",
        "        optimizer.zero_grad()\n",
        "        y_hat = model(x_var)\n",
        "        loss = loss_func.forward(y_hat, y_var)\n",
        "        loss.backward()\n",
        "        optimizer.step()\n",
        "        \n",
        "    if i % 50 == 0:\n",
        "        print( \"Epoch: {0}, Loss: {1}, \".format(i + 1, loss.data.numpy()))"
      ],
      "execution_count": 14,
      "outputs": [
        {
          "output_type": "stream",
          "text": [
            "Epoch: 1, Loss: 1.198080062866211, \n",
            "Epoch: 51, Loss: 0.11336255073547363, \n"
          ],
          "name": "stdout"
        },
        {
          "output_type": "stream",
          "text": [
            "/usr/local/lib/python3.7/dist-packages/torch/nn/functional.py:1698: UserWarning: nn.functional.tanh is deprecated. Use torch.tanh instead.\n",
            "  warnings.warn(\"nn.functional.tanh is deprecated. Use torch.tanh instead.\")\n"
          ],
          "name": "stderr"
        },
        {
          "output_type": "stream",
          "text": [
            "Epoch: 101, Loss: 0.04942166805267334, \n",
            "Epoch: 151, Loss: 0.08608889579772949, \n",
            "Epoch: 201, Loss: 0.29695039987564087, \n",
            "Epoch: 251, Loss: 0.20475217700004578, \n",
            "Epoch: 301, Loss: 0.6133637428283691, \n",
            "Epoch: 351, Loss: 0.4661521911621094, \n",
            "Epoch: 401, Loss: 0.04556477069854736, \n",
            "Epoch: 451, Loss: 0.33332371711730957, \n",
            "Epoch: 501, Loss: 0.2566060423851013, \n",
            "Epoch: 551, Loss: 0.11660987138748169, \n",
            "Epoch: 601, Loss: 0.28267720341682434, \n",
            "Epoch: 651, Loss: 0.010149598121643066, \n",
            "Epoch: 701, Loss: 0.2854008674621582, \n",
            "Epoch: 751, Loss: 0.22045516967773438, \n",
            "Epoch: 801, Loss: 0.03141164779663086, \n",
            "Epoch: 851, Loss: 0.08384227752685547, \n",
            "Epoch: 901, Loss: 0.19410449266433716, \n",
            "Epoch: 951, Loss: 0.3587958812713623, \n",
            "Epoch: 1001, Loss: 0.19532275199890137, \n",
            "Epoch: 1051, Loss: 0.08159404993057251, \n",
            "Epoch: 1101, Loss: 0.053788185119628906, \n",
            "Epoch: 1151, Loss: 0.2324419617652893, \n",
            "Epoch: 1201, Loss: 0.1696997880935669, \n",
            "Epoch: 1251, Loss: 0.023647665977478027, \n",
            "Epoch: 1301, Loss: 0.1612512469291687, \n",
            "Epoch: 1351, Loss: 0.23108822107315063, \n",
            "Epoch: 1401, Loss: 0.014390826225280762, \n",
            "Epoch: 1451, Loss: 0.41218262910842896, \n",
            "Epoch: 1501, Loss: 0.7671420574188232, \n",
            "Epoch: 1551, Loss: 0.012764990329742432, \n",
            "Epoch: 1601, Loss: 0.19317641854286194, \n",
            "Epoch: 1651, Loss: 0.037061601877212524, \n",
            "Epoch: 1701, Loss: 0.24772250652313232, \n",
            "Epoch: 1751, Loss: 0.1843428611755371, \n",
            "Epoch: 1801, Loss: 0.34596753120422363, \n",
            "Epoch: 1851, Loss: 0.020347684621810913, \n",
            "Epoch: 1901, Loss: 0.03881263732910156, \n",
            "Epoch: 1951, Loss: 0.30334967374801636, \n",
            "Epoch: 2001, Loss: 0.0550159215927124, \n"
          ],
          "name": "stdout"
        }
      ]
    }
  ]
}